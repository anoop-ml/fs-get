{
 "cells": [
  {
   "cell_type": "markdown",
   "id": "52f3a3fe",
   "metadata": {},
   "source": [
    "### Example for retrieving feature store records\n",
    "\n",
    "Assumptions\n",
    "- You will need the Feature Group name that is provisioned and the feature id\n",
    "- Create a lambda function (used 1 GB memory for this example) and its related role has access to SageMaker feature store\n",
    "- Notebook role has access to invoke lambda\n",
    "- Optional - [Provisioned Concurrrency](https://aws.amazon.com/blogs/aws/new-provisioned-concurrency-for-lambda-functions/) configured based on your use-case\n"
   ]
  },
  {
   "cell_type": "code",
   "execution_count": 1,
   "id": "7b9adefe",
   "metadata": {},
   "outputs": [],
   "source": [
    "import boto3\n",
    "import json\n",
    "import numpy as np\n",
    "import time"
   ]
  },
  {
   "cell_type": "code",
   "execution_count": 2,
   "id": "b2e96926",
   "metadata": {},
   "outputs": [],
   "source": [
    "def get_stats(times):\n",
    "    a = np.array(times)\n",
    "    p_50 = np.percentile(a, 50)\n",
    "    p_95 = np.percentile(a, 95)\n",
    "    p_99 = np.percentile(a, 99)\n",
    "    avg = np.average(a)\n",
    "    \n",
    "    return {\n",
    "        'avg':avg, \n",
    "        'p_50': p_50, \n",
    "        'p_95': p_95, \n",
    "        'p_99': p_99}"
   ]
  },
  {
   "cell_type": "code",
   "execution_count": 3,
   "id": "9aae9b6c",
   "metadata": {},
   "outputs": [],
   "source": [
    "def invoke_lambda(client, fg_name, feat_id):   \n",
    "    payload={\n",
    "      \"featureGrpName\": fg_name,\n",
    "      \"featureId\": str(feat_id)\n",
    "    }\n",
    "\n",
    "    response = client.invoke(\n",
    "            FunctionName=\"lambda_featurestore\",\n",
    "            InvocationType='RequestResponse',\n",
    "            Payload=json.dumps(payload)\n",
    "        )\n",
    "    \n",
    "    return json.loads(response['Payload'].read())"
   ]
  },
  {
   "cell_type": "code",
   "execution_count": 10,
   "id": "14d8367e",
   "metadata": {},
   "outputs": [],
   "source": [
    "fg_name = 'ingest-fg-06-17-2021-14-46-44'\n",
    "feat_id = 1\n",
    "client = boto3.client('lambda')\n",
    "times = []\n",
    "for i in range(10):\n",
    "    ret = invoke_lambda(client, fg_name, feat_id)\n",
    "    times.append(ret)"
   ]
  },
  {
   "cell_type": "code",
   "execution_count": 11,
   "id": "2ab8d5cb",
   "metadata": {},
   "outputs": [
    {
     "name": "stdout",
     "output_type": "stream",
     "text": [
      "fs_read1 {'avg': 0.01577260494232178, 'p_50': 0.009138703346252441, 'p_95': 0.04471430778503412, 'p_99': 0.06447665214538575}\n"
     ]
    }
   ],
   "source": [
    "print ('fs_read1', get_stats([d['fs_read1'] for d in times]))"
   ]
  },
  {
   "cell_type": "code",
   "execution_count": 12,
   "id": "d7f260fc",
   "metadata": {},
   "outputs": [
    {
     "name": "stdout",
     "output_type": "stream",
     "text": [
      "fs_read1 {'avg': 0.009825873374938964, 'p_50': 0.008833169937133789, 'p_95': 0.013622891902923581, 'p_99': 0.014252974987030029}\n"
     ]
    }
   ],
   "source": [
    "print ('fs_read1', get_stats([d['fs_read2'] for d in times]))"
   ]
  },
  {
   "cell_type": "code",
   "execution_count": null,
   "id": "e8efda82",
   "metadata": {},
   "outputs": [],
   "source": []
  }
 ],
 "metadata": {
  "kernelspec": {
   "display_name": "conda_python3",
   "language": "python",
   "name": "conda_python3"
  },
  "language_info": {
   "codemirror_mode": {
    "name": "ipython",
    "version": 3
   },
   "file_extension": ".py",
   "mimetype": "text/x-python",
   "name": "python",
   "nbconvert_exporter": "python",
   "pygments_lexer": "ipython3",
   "version": "3.6.13"
  }
 },
 "nbformat": 4,
 "nbformat_minor": 5
}

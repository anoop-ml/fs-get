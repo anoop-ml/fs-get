{
 "cells": [
  {
   "cell_type": "markdown",
   "id": "7a4e1ed2",
   "metadata": {},
   "source": [
    "### Example for retrieving feature store records\n",
    "\n",
    "Assumptions - Must have a Feature Group Provisioned with an id"
   ]
  },
  {
   "cell_type": "markdown",
   "id": "75357ce2",
   "metadata": {},
   "source": [
    "Function wrapping get feature store record"
   ]
  },
  {
   "cell_type": "code",
   "execution_count": 1,
   "id": "639f7419",
   "metadata": {},
   "outputs": [],
   "source": [
    "def get_fs_record(boto_fs_client, fg_name, feat_id, feat_names=None):\n",
    "    import time\n",
    "    \n",
    "    req = dict(\n",
    "        FeatureGroupName=fg_name, \n",
    "        RecordIdentifierValueAsString=str(sample_id)\n",
    "    )\n",
    "    if feat_names:\n",
    "        req['FeatureNames'] = feat_names\n",
    "    \n",
    "    start = time.time()\n",
    "    record = boto_fs_client.get_record(**req)\n",
    "    end = time.time()\n",
    "    duration = end-start\n",
    "    \n",
    "    return (record.get('Record', None), duration)"
   ]
  },
  {
   "cell_type": "markdown",
   "id": "754e3ef0",
   "metadata": {},
   "source": [
    "Function to compute avg, 50, 95 and 99 th percentiles"
   ]
  },
  {
   "cell_type": "code",
   "execution_count": 4,
   "id": "18704c9b",
   "metadata": {},
   "outputs": [],
   "source": [
    "def get_stats(times):\n",
    "    import numpy as np\n",
    "    a = np.array(times)\n",
    "    p_50 = np.percentile(a, 50)\n",
    "    p_95 = np.percentile(a, 95)\n",
    "    p_99 = np.percentile(a, 99)\n",
    "    avg = np.average(a)\n",
    "    \n",
    "    return {\n",
    "        'avg':avg, \n",
    "        'p_50': p_50, \n",
    "        'p_95': p_95, \n",
    "        'p_99': p_99}"
   ]
  },
  {
   "cell_type": "markdown",
   "id": "20a2b2fe",
   "metadata": {},
   "source": [
    "Call n times and compute stats on the duration it took for get record from Feature Store"
   ]
  },
  {
   "cell_type": "code",
   "execution_count": 6,
   "id": "634bfece",
   "metadata": {},
   "outputs": [
    {
     "data": {
      "text/plain": [
       "{'avg': 0.01108419132232666,\n",
       " 'p_50': 0.009539127349853516,\n",
       " 'p_95': 0.012973368167877197,\n",
       " 'p_99': 0.05254209756851164}"
      ]
     },
     "execution_count": 6,
     "metadata": {},
     "output_type": "execute_result"
    }
   ],
   "source": [
    "# plain vanilla boto3 session\n",
    "import boto3\n",
    "fg_name = 'ingest-fg-05-25-2021-17-24-43'\n",
    "feat_id = 20000\n",
    "num_runs = 1000\n",
    "boto_session = boto3.Session()\n",
    "boto_fs_client = boto_session.client(\n",
    "    service_name='sagemaker-featurestore-runtime'\n",
    "    )\n",
    "\n",
    "times = []\n",
    "for i in range(num_runs):\n",
    "    _, duration = get_fs_record(boto_fs_client, fg_name, feat_id)\n",
    "    times.append(duration)\n",
    "    \n",
    "get_stats(times)"
   ]
  },
  {
   "cell_type": "code",
   "execution_count": null,
   "id": "805f0744",
   "metadata": {},
   "outputs": [],
   "source": []
  }
 ],
 "metadata": {
  "kernelspec": {
   "display_name": "conda_python3",
   "language": "python",
   "name": "conda_python3"
  },
  "language_info": {
   "codemirror_mode": {
    "name": "ipython",
    "version": 3
   },
   "file_extension": ".py",
   "mimetype": "text/x-python",
   "name": "python",
   "nbconvert_exporter": "python",
   "pygments_lexer": "ipython3",
   "version": "3.6.13"
  }
 },
 "nbformat": 4,
 "nbformat_minor": 5
}

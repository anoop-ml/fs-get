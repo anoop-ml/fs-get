{
 "cells": [
  {
   "cell_type": "markdown",
   "id": "7e8147a6",
   "metadata": {},
   "source": [
    "### Example for retrieving feature store records\n",
    "\n",
    "Assumptions - Must have a Feature Group Provisioned"
   ]
  },
  {
   "cell_type": "markdown",
   "id": "2243695f",
   "metadata": {},
   "source": [
    "Function wrapping get feature store record"
   ]
  },
  {
   "cell_type": "code",
   "execution_count": 5,
   "id": "9335f5e0",
   "metadata": {},
   "outputs": [],
   "source": [
    "def get_fs_record(boto_fs_client, fg_name, feat_id, feat_names=None):\n",
    "    import time\n",
    "    \n",
    "    req = dict(\n",
    "        FeatureGroupName=fg_name, \n",
    "        RecordIdentifierValueAsString=str(feat_id)\n",
    "    )\n",
    "    if feat_names:\n",
    "        req['FeatureNames'] = feat_names\n",
    "    \n",
    "    start = time.time()\n",
    "    record = boto_fs_client.get_record(**req)\n",
    "    end = time.time()\n",
    "    duration = end-start\n",
    "    \n",
    "    return (record.get('Record', None), duration)"
   ]
  },
  {
   "cell_type": "markdown",
   "id": "d315032d",
   "metadata": {},
   "source": [
    "Function to compute avg, 50, 95 and 99 th percentiles"
   ]
  },
  {
   "cell_type": "code",
   "execution_count": 6,
   "id": "a23d10dd",
   "metadata": {},
   "outputs": [],
   "source": [
    "def get_stats(times):\n",
    "    import numpy as np\n",
    "    a = np.array(times)\n",
    "    p_50 = np.percentile(a, 50)\n",
    "    p_95 = np.percentile(a, 95)\n",
    "    p_99 = np.percentile(a, 99)\n",
    "    avg = np.average(a)\n",
    "    \n",
    "    return {\n",
    "        'avg':avg, \n",
    "        'p_50': p_50, \n",
    "        'p_95': p_95, \n",
    "        'p_99': p_99}"
   ]
  },
  {
   "cell_type": "markdown",
   "id": "16687a8a",
   "metadata": {},
   "source": [
    "Call n times and compute stats on the duration it took for get record from Feature Store"
   ]
  },
  {
   "cell_type": "code",
   "execution_count": 7,
   "id": "cd045d30",
   "metadata": {},
   "outputs": [
    {
     "data": {
      "text/plain": [
       "{'avg': 0.009683279848098756,\n",
       " 'p_50': 0.008891463279724121,\n",
       " 'p_95': 0.011829233169555663,\n",
       " 'p_99': 0.027530491352081327}"
      ]
     },
     "execution_count": 7,
     "metadata": {},
     "output_type": "execute_result"
    }
   ],
   "source": [
    "# plain vanilla boto3 session\n",
    "import boto3\n",
    "fg_name = 'ingest-fg-05-25-2021-17-24-43'\n",
    "feat_id = 20000\n",
    "num_runs = 10000\n",
    "boto_session = boto3.Session()\n",
    "boto_fs_client = boto_session.client(\n",
    "    service_name='sagemaker-featurestore-runtime'\n",
    "    )\n",
    "\n",
    "times = []\n",
    "for i in range(num_runs):\n",
    "    _, duration = get_fs_record(boto_fs_client, fg_name, feat_id)\n",
    "    times.append(duration)\n",
    "    \n",
    "get_stats(times)"
   ]
  },
  {
   "cell_type": "code",
   "execution_count": 8,
   "id": "71edc4cc",
   "metadata": {},
   "outputs": [
    {
     "data": {
      "text/plain": [
       "{'avg': 0.009676982455401913,\n",
       " 'p_50': 0.00889134407043457,\n",
       " 'p_95': 0.01182849407196045,\n",
       " 'p_99': 0.027493257522583026}"
      ]
     },
     "execution_count": 8,
     "metadata": {},
     "output_type": "execute_result"
    }
   ],
   "source": [
    "get_stats(times[1:])"
   ]
  },
  {
   "cell_type": "code",
   "execution_count": null,
   "id": "3cba5a69",
   "metadata": {},
   "outputs": [],
   "source": []
  }
 ],
 "metadata": {
  "kernelspec": {
   "display_name": "conda_python3",
   "language": "python",
   "name": "conda_python3"
  },
  "language_info": {
   "codemirror_mode": {
    "name": "ipython",
    "version": 3
   },
   "file_extension": ".py",
   "mimetype": "text/x-python",
   "name": "python",
   "nbconvert_exporter": "python",
   "pygments_lexer": "ipython3",
   "version": "3.6.13"
  }
 },
 "nbformat": 4,
 "nbformat_minor": 5
}

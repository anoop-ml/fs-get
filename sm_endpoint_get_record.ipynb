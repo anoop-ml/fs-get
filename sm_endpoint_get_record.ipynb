{
 "cells": [
  {
   "cell_type": "markdown",
   "id": "159e7da0",
   "metadata": {},
   "source": [
    "### Example for retrieving feature store records from SageMaker Endpoint\n",
    "Assumptions - Must have one Feature Group Provisioned"
   ]
  },
  {
   "cell_type": "markdown",
   "id": "64313171",
   "metadata": {},
   "source": [
    "Custom inference file"
   ]
  },
  {
   "cell_type": "code",
   "execution_count": 1,
   "id": "dd5338e3",
   "metadata": {},
   "outputs": [
    {
     "name": "stdout",
     "output_type": "stream",
     "text": [
      "Overwriting inference.py\n"
     ]
    }
   ],
   "source": [
    "%%writefile inference.py\n",
    "\n",
    "import json\n",
    "import os\n",
    "import pickle as pkl\n",
    "import time\n",
    "import sys\n",
    "import subprocess\n",
    "import numpy as np\n",
    "\n",
    "subprocess.check_call([sys.executable, \"-m\", \"pip\", \"install\", \"sagemaker\"])\n",
    "\n",
    "import boto3\n",
    "import sagemaker\n",
    "\n",
    "import sagemaker_xgboost_container.encoder as xgb_encoders\n",
    "\n",
    "boto_session = boto3.Session()\n",
    "boto_fs_client = boto_session.client(service_name='sagemaker-featurestore-runtime')\n",
    "\n",
    "def model_fn(model_dir):\n",
    "    print ('processing - in model_fn')\n",
    "    return None\n",
    "\n",
    "\n",
    "def input_fn(request_body, request_content_type):\n",
    "    print ('processing - in input_fn')\n",
    "    return request_body\n",
    "\n",
    "\n",
    "def predict_fn(input_data, model):\n",
    "    print ('processing - in predict_fn')\n",
    "    \n",
    "    params = input_data.split(',')\n",
    "    fg_name = params[0]\n",
    "    input_feat_id = int(params[1])\n",
    "    \n",
    "    \n",
    "    start = time.time()\n",
    "    rec = boto_fs_client.get_record(FeatureGroupName=fg_name, RecordIdentifierValueAsString=str(input_feat_id))\n",
    "    end = time.time()\n",
    "    feat = rec.get('Record', None)\n",
    "    if not feat:\n",
    "        print (f'processing - unable to read feature record with id {input_feat_id}, for fg {fg_name}')\n",
    "    else:\n",
    "        resp_feat_id = feat[0]['ValueAsString']\n",
    "        print (f'processing - successfull get of feature record with id {resp_feat_id}, in fg {fg_name}')\n",
    "    duration = end-start\n",
    "    \n",
    "    print (f'processing - duration = {duration}')\n",
    "    \n",
    "    return duration\n",
    "\n",
    "\n",
    "def output_fn(prediction, content_type):\n",
    "    print ('processing - output_fn', prediction)\n",
    "    return str(prediction)\n"
   ]
  },
  {
   "cell_type": "markdown",
   "id": "67fb0b52",
   "metadata": {},
   "source": [
    "Deploy/Create a sagemaker endpoint using xgboost model"
   ]
  },
  {
   "cell_type": "code",
   "execution_count": 2,
   "id": "cbbcfc1d",
   "metadata": {},
   "outputs": [
    {
     "name": "stdout",
     "output_type": "stream",
     "text": [
      "---------------!"
     ]
    }
   ],
   "source": [
    "import sagemaker\n",
    "from sagemaker.xgboost.model import XGBoostModel\n",
    "from sagemaker.serializers import CSVSerializer\n",
    "\n",
    "role = sagemaker.get_execution_role()\n",
    "\n",
    "\n",
    "\n",
    "xgboost_inference_model = XGBoostModel(\n",
    "    model_data=\"s3://fs-get-record/sagemaker/xgboost_credit_risk/output/xgboost-2021-06-02-14-55-49-198/output/model.tar.gz\",\n",
    "    role=role,\n",
    "    entry_point=\"inference.py\",\n",
    "    framework_version=\"1.2-2\"\n",
    ")\n",
    "\n",
    "predictor = xgboost_inference_model.deploy(\n",
    "    instance_type='ml.c4.xlarge',\n",
    "    initial_instance_count=1,\n",
    "    serializer=CSVSerializer(),\n",
    ")"
   ]
  },
  {
   "cell_type": "markdown",
   "id": "cafb54da",
   "metadata": {},
   "source": [
    "Single run, the predictor returns a duration (secs). The feature group should be provisioned with the id"
   ]
  },
  {
   "cell_type": "code",
   "execution_count": null,
   "id": "6acf93f1",
   "metadata": {},
   "outputs": [],
   "source": [
    "fg_name = 'ingest-fg-05-25-2021-17-24-43'\n",
    "feat_id = 20000\n",
    "req = f'{fg_name}, {feat_id}'\n",
    "resp = predictor.predict(req)\n",
    "duration = resp[0][0]\n",
    "duration"
   ]
  },
  {
   "cell_type": "markdown",
   "id": "2cbcb2cf",
   "metadata": {},
   "source": [
    "Helper function to print stats"
   ]
  },
  {
   "cell_type": "code",
   "execution_count": 3,
   "id": "7c2d6d28",
   "metadata": {},
   "outputs": [],
   "source": [
    "def get_stats(times):\n",
    "    import numpy as np\n",
    "    a = np.array(times)\n",
    "    p_50 = np.percentile(a, 50)\n",
    "    p_95 = np.percentile(a, 95)\n",
    "    p_99 = np.percentile(a, 99)\n",
    "    avg = np.average(a)\n",
    "    \n",
    "    return {\n",
    "        'avg':avg, \n",
    "        'p_50': p_50, \n",
    "        'p_95': p_95, \n",
    "        'p_99': p_99}"
   ]
  },
  {
   "cell_type": "code",
   "execution_count": 4,
   "id": "5594485e",
   "metadata": {},
   "outputs": [
    {
     "data": {
      "text/plain": [
       "{'avg': 0.01362003183364868,\n",
       " 'p_50': 0.009113788604736328,\n",
       " 'p_95': 0.023509359359741206,\n",
       " 'p_99': 0.04925855159759498}"
      ]
     },
     "execution_count": 4,
     "metadata": {},
     "output_type": "execute_result"
    }
   ],
   "source": [
    "fg_name = 'ingest-fg-05-25-2021-17-24-43'\n",
    "feat_id = 20000\n",
    "times = []\n",
    "for i in range(1000):\n",
    "    req = f'{fg_name}, {feat_id}'\n",
    "    resp = predictor.predict(req)\n",
    "    duration = float(resp[0][0])\n",
    "    times.append(duration)\n",
    "    \n",
    "get_stats(times)"
   ]
  },
  {
   "cell_type": "code",
   "execution_count": 5,
   "id": "87d4c4c4",
   "metadata": {},
   "outputs": [
    {
     "data": {
      "text/plain": [
       "{'avg': 0.013537575413395573,\n",
       " 'p_50': 0.009113550186157227,\n",
       " 'p_95': 0.0234598159790039,\n",
       " 'p_99': 0.045768833160400334}"
      ]
     },
     "execution_count": 5,
     "metadata": {},
     "output_type": "execute_result"
    }
   ],
   "source": [
    "get_stats(times[1:])"
   ]
  },
  {
   "cell_type": "markdown",
   "id": "0ea29b02",
   "metadata": {},
   "source": [
    "Create Feature Group, provision sample data and retrieve, to simulate cold starts"
   ]
  },
  {
   "cell_type": "code",
   "execution_count": null,
   "id": "e51dad7d",
   "metadata": {},
   "outputs": [],
   "source": [
    "import sagemaker\n",
    "import pandas as pd\n",
    "sm_session = sagemaker.Session()\n",
    "role = sagemaker.get_execution_role()"
   ]
  },
  {
   "cell_type": "markdown",
   "id": "7ed1d36e",
   "metadata": {},
   "source": [
    "Generate Sample Data"
   ]
  },
  {
   "cell_type": "code",
   "execution_count": null,
   "id": "95c0930a",
   "metadata": {},
   "outputs": [],
   "source": [
    "num_fgs = 25\n",
    "data_feat_ids = [i for i in range(1, num_fgs+1)]\n",
    "data_feat_eventtimes = ['2020-12-21T01:00:00Z' for i in range(1, num_fgs+1)]\n",
    "data_feat_qtys = [i *10 for i in range(1, num_fgs+1)]\n",
    "data_fg_names = ['test-fg-'+str(i) for i in range(1, num_fgs+1)]"
   ]
  },
  {
   "cell_type": "markdown",
   "id": "75f42104",
   "metadata": {},
   "source": [
    "Helpers to provision and ingest sample data into feature groups"
   ]
  },
  {
   "cell_type": "code",
   "execution_count": null,
   "id": "e9af97c1",
   "metadata": {},
   "outputs": [],
   "source": [
    "from sagemaker.feature_store.feature_group import FeatureGroup\n",
    "import time\n",
    "def cast_object_to_string(df):\n",
    "    for col in df.columns:\n",
    "        if df.dtypes[col] == 'object':\n",
    "            df[col] = df[col].astype('str').astype('string')\n",
    "            \n",
    "def wait_for_feature_group_creation_complete(feature_group):\n",
    "    status = feature_group.describe().get(\"FeatureGroupStatus\")\n",
    "    while status == \"Creating\":\n",
    "#        print(\"Waiting for Feature Group Creation\")\n",
    "        time.sleep(5)\n",
    "        status = feature_group.describe().get(\"FeatureGroupStatus\")\n",
    "    if status != \"Created\":\n",
    "        raise RuntimeError(f\"Failed to create feature group {feature_group.name}\")\n",
    "#   print(f\"FeatureGroup {feature_group.name} successfully created.\")\n",
    "\n",
    "def ingest_data(seed_data):\n",
    "    for feat_id, feat_time, feat_qty, fg_name in seed_data:\n",
    "        tmp = {\n",
    "            'feat_id': [feat_id],\n",
    "            'feat_time': [feat_time],\n",
    "            'feat_Qty': [feat_qty]\n",
    "        }\n",
    "        df = pd.DataFrame(data=tmp)\n",
    "        # cast object dtype to string. The SageMaker FeatureStore Python SDK will then map the string dtype to String feature type.\n",
    "        cast_object_to_string(df)\n",
    "        fg = FeatureGroup(name=fg_name, sagemaker_session=sm_session)\n",
    "        fg.load_feature_definitions(data_frame=df)\n",
    "        \n",
    "\n",
    "        kwargs = dict(\n",
    "            s3_uri = False,\n",
    "            record_identifier_name='feat_id',\n",
    "            event_time_feature_name='feat_time',\n",
    "            role_arn=role,\n",
    "            enable_online_store=True\n",
    "        )\n",
    "        fg.create(**kwargs)\n",
    "        wait_for_feature_group_creation_complete(fg)\n",
    "        \n",
    "        fg.ingest(data_frame=df, wait=True)"
   ]
  },
  {
   "cell_type": "code",
   "execution_count": null,
   "id": "3d0f71fa",
   "metadata": {},
   "outputs": [],
   "source": [
    "sample_data = zip(data_feat_ids, data_feat_eventtimes, data_feat_qtys, data_fg_names)\n",
    "ingest_data(sample_data)    "
   ]
  },
  {
   "cell_type": "markdown",
   "id": "ae530600",
   "metadata": {},
   "source": [
    "Call get record for newly created feature groups to simulate cold times"
   ]
  },
  {
   "cell_type": "code",
   "execution_count": null,
   "id": "0e3cfe9d",
   "metadata": {},
   "outputs": [],
   "source": [
    "times = []\n",
    "for i in range(len(data_fg_names)):\n",
    "    fg_name = data_fg_names[i]\n",
    "    feat_id = data_feat_ids[i]\n",
    "    req = f'{fg_name}, {feat_id}'\n",
    "    resp = predictor.predict(req)\n",
    "    duration = float(resp[0][0])\n",
    "    times.append(duration)\n",
    "    \n",
    "get_stats(times)"
   ]
  },
  {
   "cell_type": "code",
   "execution_count": null,
   "id": "eb13bd0e",
   "metadata": {},
   "outputs": [],
   "source": [
    "#delete feature groups\n",
    "for fg_name in data_fg_names:\n",
    "    fg = FeatureGroup(name=fg_name, sagemaker_session=sm_session)\n",
    "    fg.delete()"
   ]
  },
  {
   "cell_type": "code",
   "execution_count": null,
   "id": "cd908655",
   "metadata": {},
   "outputs": [],
   "source": [
    "# delete endpoint\n",
    "predictor.delete_endpoint()"
   ]
  },
  {
   "cell_type": "code",
   "execution_count": null,
   "id": "d2bd2996",
   "metadata": {},
   "outputs": [],
   "source": []
  }
 ],
 "metadata": {
  "kernelspec": {
   "display_name": "conda_python3",
   "language": "python",
   "name": "conda_python3"
  },
  "language_info": {
   "codemirror_mode": {
    "name": "ipython",
    "version": 3
   },
   "file_extension": ".py",
   "mimetype": "text/x-python",
   "name": "python",
   "nbconvert_exporter": "python",
   "pygments_lexer": "ipython3",
   "version": "3.6.13"
  }
 },
 "nbformat": 4,
 "nbformat_minor": 5
}

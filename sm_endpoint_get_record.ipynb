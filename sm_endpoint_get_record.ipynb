{
 "cells": [
  {
   "cell_type": "markdown",
   "id": "c06e3dde",
   "metadata": {},
   "source": [
    "### Example for retrieving feature store records from SageMaker Endpoint\n",
    "Assumptions - Must have a Feature Group Provisioned with an id"
   ]
  },
  {
   "cell_type": "markdown",
   "id": "772a93f1",
   "metadata": {},
   "source": [
    "Custom inference file"
   ]
  },
  {
   "cell_type": "code",
   "execution_count": 1,
   "id": "9942d1de",
   "metadata": {},
   "outputs": [
    {
     "name": "stdout",
     "output_type": "stream",
     "text": [
      "Writing inference.py\n"
     ]
    }
   ],
   "source": [
    "%%writefile inference.py\n",
    "\n",
    "import json\n",
    "import os\n",
    "import pickle as pkl\n",
    "import time\n",
    "import sys\n",
    "import subprocess\n",
    "import numpy as np\n",
    "\n",
    "subprocess.check_call([sys.executable, \"-m\", \"pip\", \"install\", \"sagemaker\"])\n",
    "\n",
    "import boto3\n",
    "import sagemaker\n",
    "\n",
    "import sagemaker_xgboost_container.encoder as xgb_encoders\n",
    "\n",
    "boto_session = boto3.Session()\n",
    "boto_fs_client = boto_session.client(service_name='sagemaker-featurestore-runtime')\n",
    "\n",
    "def model_fn(model_dir):\n",
    "    print ('processing - in model_fn')\n",
    "    return None\n",
    "\n",
    "\n",
    "def input_fn(request_body, request_content_type):\n",
    "    print ('processing - in input_fn')\n",
    "    return request_body\n",
    "\n",
    "\n",
    "def predict_fn(input_data, model):\n",
    "    print ('processing - in predict_fn')\n",
    "    \n",
    "    params = input_data.split(',')\n",
    "    fg_name = params[0]\n",
    "    input_feat_id = int(params[1])\n",
    "    \n",
    "    \n",
    "    start = time.time()\n",
    "    rec = boto_fs_client.get_record(FeatureGroupName=fg_name, RecordIdentifierValueAsString=str(input_feat_id))\n",
    "    feat = rec.get('Record', None)\n",
    "    if not feat:\n",
    "        print (f'processing - unable to read feature record with id {input_feat_id}, for fg {fg_name}')\n",
    "    else:\n",
    "        resp_feat_id = feat[0]['ValueAsString']\n",
    "        print (f'processing - successfull get of feature record with id {resp_feat_id}, in fg {fg_name}')\n",
    "    end = time.time()\n",
    "    duration = end-start\n",
    "    \n",
    "    print (f'processing - duration = {duration}')\n",
    "    \n",
    "    return duration\n",
    "\n",
    "\n",
    "def output_fn(prediction, content_type):\n",
    "    print ('processing - output_fn', prediction)\n",
    "    return str(prediction)\n"
   ]
  },
  {
   "cell_type": "markdown",
   "id": "13b7e9de",
   "metadata": {},
   "source": [
    "Deploy/Create a sagemaker endpoint using xgboost model"
   ]
  },
  {
   "cell_type": "code",
   "execution_count": 2,
   "id": "f935d505",
   "metadata": {},
   "outputs": [
    {
     "name": "stdout",
     "output_type": "stream",
     "text": [
      "---------------!"
     ]
    }
   ],
   "source": [
    "import sagemaker\n",
    "from sagemaker.xgboost.model import XGBoostModel\n",
    "from sagemaker.serializers import CSVSerializer\n",
    "\n",
    "role = sagemaker.get_execution_role()\n",
    "\n",
    "\n",
    "\n",
    "xgboost_inference_model = XGBoostModel(\n",
    "    model_data=\"s3://fs-get-record/sagemaker/xgboost_credit_risk/output/xgboost-2021-06-02-14-55-49-198/output/model.tar.gz\",\n",
    "    role=role,\n",
    "    entry_point=\"inference.py\",\n",
    "    framework_version=\"1.2-2\"\n",
    ")\n",
    "\n",
    "predictor = xgboost_inference_model.deploy(\n",
    "    instance_type='ml.c4.xlarge',\n",
    "    initial_instance_count=1,\n",
    "    serializer=CSVSerializer(),\n",
    ")"
   ]
  },
  {
   "cell_type": "markdown",
   "id": "0e9453e5",
   "metadata": {},
   "source": [
    "Single run, the predictor returns a duration (secs). The feature group should be provisioned with the id"
   ]
  },
  {
   "cell_type": "code",
   "execution_count": 6,
   "id": "70df0aa7",
   "metadata": {},
   "outputs": [
    {
     "data": {
      "text/plain": [
       "'0.08763742446899414'"
      ]
     },
     "execution_count": 6,
     "metadata": {},
     "output_type": "execute_result"
    }
   ],
   "source": [
    "fg_name = 'ingest-fg-05-25-2021-17-24-43'\n",
    "feat_id = 20000\n",
    "req = f'{fg_name}, {feat_id}'\n",
    "resp = predictor.predict(req)\n",
    "duration = resp[0][0]\n",
    "duration"
   ]
  },
  {
   "cell_type": "markdown",
   "id": "72587b1d",
   "metadata": {},
   "source": [
    "Helper function to print stats"
   ]
  },
  {
   "cell_type": "code",
   "execution_count": 7,
   "id": "3ea1c731",
   "metadata": {},
   "outputs": [],
   "source": [
    "def get_stats(times):\n",
    "    import numpy as np\n",
    "    a = np.array(times)\n",
    "    p_50 = np.percentile(a, 50)\n",
    "    p_95 = np.percentile(a, 95)\n",
    "    p_99 = np.percentile(a, 99)\n",
    "    avg = np.average(a)\n",
    "    \n",
    "    return {\n",
    "        'avg':avg, \n",
    "        'p_50': p_50, \n",
    "        'p_95': p_95, \n",
    "        'p_99': p_99}"
   ]
  },
  {
   "cell_type": "code",
   "execution_count": 8,
   "id": "aa7bed17",
   "metadata": {},
   "outputs": [
    {
     "data": {
      "text/plain": [
       "{'avg': 0.011606650114059449,\n",
       " 'p_50': 0.009004950523376465,\n",
       " 'p_95': 0.021177470684051514,\n",
       " 'p_99': 0.07053253650665284}"
      ]
     },
     "execution_count": 8,
     "metadata": {},
     "output_type": "execute_result"
    }
   ],
   "source": [
    "fg_name = 'ingest-fg-05-25-2021-17-24-43'\n",
    "feat_id = 20000\n",
    "times = []\n",
    "for i in range(1000):\n",
    "    req = f'{fg_name}, {feat_id}'\n",
    "    resp = predictor.predict(req)\n",
    "    duration = float(resp[0][0])\n",
    "    times.append(duration)\n",
    "    \n",
    "get_stats(times)"
   ]
  },
  {
   "cell_type": "code",
   "execution_count": null,
   "id": "3268d67c",
   "metadata": {},
   "outputs": [],
   "source": []
  },
  {
   "cell_type": "code",
   "execution_count": null,
   "id": "4362b975",
   "metadata": {},
   "outputs": [],
   "source": [
    "# delete endpoint\n",
    "predictor.delete_endpoint()"
   ]
  }
 ],
 "metadata": {
  "kernelspec": {
   "display_name": "conda_python3",
   "language": "python",
   "name": "conda_python3"
  },
  "language_info": {
   "codemirror_mode": {
    "name": "ipython",
    "version": 3
   },
   "file_extension": ".py",
   "mimetype": "text/x-python",
   "name": "python",
   "nbconvert_exporter": "python",
   "pygments_lexer": "ipython3",
   "version": "3.6.13"
  }
 },
 "nbformat": 4,
 "nbformat_minor": 5
}
